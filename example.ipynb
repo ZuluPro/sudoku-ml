{
 "cells": [
  {
   "cell_type": "markdown",
   "id": "97b6dce9",
   "metadata": {},
   "source": [
    "# Import requirements"
   ]
  },
  {
   "cell_type": "code",
   "execution_count": 1,
   "id": "b1a36b9d",
   "metadata": {},
   "outputs": [
    {
     "name": "stderr",
     "output_type": "stream",
     "text": [
      "2022-01-30 00:39:22.174419: I tensorflow/core/platform/cpu_feature_guard.cc:151] This TensorFlow binary is optimized with oneAPI Deep Neural Network Library (oneDNN) to use the following CPU instructions in performance-critical operations:  AVX2 FMA\n",
      "To enable them in other operations, rebuild TensorFlow with the appropriate compiler flags.\n"
     ]
    }
   ],
   "source": [
    "from sudoku_ml.agent import Agent\n",
    "from sudoku_ml import datasets\n",
    "from sudoku_ml import utils as ml_utils"
   ]
  },
  {
   "cell_type": "markdown",
   "id": "8d191136",
   "metadata": {},
   "source": [
    "# Generate a training dataset"
   ]
  },
  {
   "cell_type": "code",
   "execution_count": 20,
   "id": "0944664a",
   "metadata": {},
   "outputs": [],
   "source": [
    "generator = datasets.Generator()\n",
    "train_dataset = generator.generate_training_dataset(\n",
    "    count=1000000,\n",
    "    removed=(10, 50),\n",
    ")"
   ]
  },
  {
   "cell_type": "markdown",
   "id": "f2cbf5dd",
   "metadata": {},
   "source": [
    "# Create agent"
   ]
  },
  {
   "cell_type": "code",
   "execution_count": 21,
   "id": "020ac3e1",
   "metadata": {},
   "outputs": [],
   "source": [
    "agent = Agent(\n",
    "    batch_size=512,\n",
    "    epochs=2,\n",
    ")"
   ]
  },
  {
   "cell_type": "markdown",
   "id": "0d8f8380",
   "metadata": {},
   "source": [
    "#  Run training"
   ]
  },
  {
   "cell_type": "code",
   "execution_count": 22,
   "id": "17f80b5f",
   "metadata": {},
   "outputs": [
    {
     "name": "stdout",
     "output_type": "stream",
     "text": [
      "Epoch 1/2\n",
      "1250/1250 - 491s - loss: 0.3496 - val_loss: 0.2068 - 491s/epoch - 393ms/step\n",
      "Epoch 2/2\n",
      "1250/1250 - 468s - loss: 0.1881 - val_loss: 0.1826 - 468s/epoch - 375ms/step\n"
     ]
    }
   ],
   "source": [
    "agent.train(\n",
    "    runs=1,\n",
    "    dataset=train_dataset\n",
    ")"
   ]
  },
  {
   "cell_type": "markdown",
   "id": "952f9c72",
   "metadata": {},
   "source": [
    "## Save the model"
   ]
  },
  {
   "cell_type": "code",
   "execution_count": 24,
   "id": "7ddc86d5",
   "metadata": {},
   "outputs": [],
   "source": [
    "agent.model.save('/tmp/sudoku.h5')"
   ]
  },
  {
   "cell_type": "markdown",
   "id": "dcf403c0",
   "metadata": {},
   "source": [
    "# Run inference\n",
    "## Generate a grid"
   ]
  },
  {
   "cell_type": "code",
   "execution_count": 28,
   "id": "9377d4c8",
   "metadata": {},
   "outputs": [
    {
     "name": "stdout",
     "output_type": "stream",
     "text": [
      "[[9 0 0 1 7 6 4 8 5]\n",
      " [8 0 0 3 0 2 1 0 6]\n",
      " [7 0 1 0 0 5 3 9 0]\n",
      " [5 1 7 8 2 0 0 6 0]\n",
      " [2 4 8 0 0 3 7 5 1]\n",
      " [0 3 0 7 5 1 0 2 4]\n",
      " [1 0 0 5 0 0 0 0 0]\n",
      " [4 7 5 0 0 8 0 1 9]\n",
      " [3 0 0 0 1 9 0 0 0]]\n",
      "[[9 2 3 1 7 6 4 8 5]\n",
      " [8 5 4 3 9 2 1 7 6]\n",
      " [7 6 1 4 8 5 3 9 2]\n",
      " [5 1 7 8 2 4 9 6 3]\n",
      " [2 4 8 9 6 3 7 5 1]\n",
      " [6 3 9 7 5 1 8 2 4]\n",
      " [1 9 6 5 4 7 2 3 8]\n",
      " [4 7 5 2 3 8 6 1 9]\n",
      " [3 8 2 6 1 9 5 4 7]]\n"
     ]
    }
   ],
   "source": [
    "puzzle, solution = generator.generate_dataset(\n",
    "    count=1,\n",
    "    removed=(10, 50),\n",
    ")\n",
    "print(puzzle.reshape(9, 9))\n",
    "print(solution.reshape(9, 9)+1)"
   ]
  },
  {
   "cell_type": "markdown",
   "id": "95fe2c40",
   "metadata": {},
   "source": [
    "## Solve"
   ]
  },
  {
   "cell_type": "code",
   "execution_count": 38,
   "id": "6e254b89",
   "metadata": {},
   "outputs": [
    {
     "name": "stdout",
     "output_type": "stream",
     "text": [
      "3 5 4 True\n",
      "1 2 4 True\n",
      "1 7 7 True\n",
      "1 1 5 True\n",
      "3 8 3 True\n",
      "5 0 6 True\n",
      "1 4 9 True\n",
      "2 3 4 True\n",
      "2 4 8 True\n",
      "2 8 2 True\n",
      "4 4 6 True\n",
      "4 3 9 True\n",
      "7 4 3 True\n",
      "6 4 4 True\n",
      "6 5 7 True\n",
      "6 7 3 True\n",
      "8 7 4 True\n",
      "2 1 6 True\n",
      "0 2 3 True\n",
      "0 1 2 True\n",
      "8 1 8 True\n",
      "6 1 9 True\n",
      "6 8 8 True\n",
      "8 8 7 True\n",
      "3 6 9 True\n",
      "5 2 9 True\n",
      "5 6 8 True\n",
      "7 3 2 True\n",
      "8 3 6 True\n",
      "7 6 6 True\n",
      "6 6 2 True\n",
      "6 2 6 True\n",
      "8 2 2 True\n",
      "8 6 5 True\n",
      "[[9 2 3 1 7 6 4 8 5]\n",
      " [8 5 4 3 9 2 1 7 6]\n",
      " [7 6 1 4 8 5 3 9 2]\n",
      " [5 1 7 8 2 4 9 6 3]\n",
      " [2 4 8 9 6 3 7 5 1]\n",
      " [6 3 9 7 5 1 8 2 4]\n",
      " [1 9 6 5 4 7 2 3 8]\n",
      " [4 7 5 2 3 8 6 1 9]\n",
      " [3 8 2 6 1 9 5 4 7]]\n"
     ]
    }
   ],
   "source": [
    "grid = puzzle.copy()\n",
    "\n",
    "while not grid.all():\n",
    "    X, Y, value = agent.infer(grid)\n",
    "    is_valid = solution.reshape((9, 9))[X, Y] == value\n",
    "    print(X, Y, value+1, is_valid)\n",
    "    if not is_valid:\n",
    "        break\n",
    "    grid.reshape(9, 9)[X, Y] = value + 1\n",
    "    \n",
    "print(grid.reshape(9, 9))"
   ]
  }
 ],
 "metadata": {
  "celltoolbar": "Éditer les Méta-Données",
  "kernelspec": {
   "display_name": "Python 3 (ipykernel)",
   "language": "python",
   "name": "python3"
  },
  "language_info": {
   "codemirror_mode": {
    "name": "ipython",
    "version": 3
   },
   "file_extension": ".py",
   "mimetype": "text/x-python",
   "name": "python",
   "nbconvert_exporter": "python",
   "pygments_lexer": "ipython3",
   "version": "3.7.1"
  }
 },
 "nbformat": 4,
 "nbformat_minor": 5
}
